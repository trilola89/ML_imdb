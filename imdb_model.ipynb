{
 "cells": [
  {
   "cell_type": "code",
   "execution_count": 2,
   "metadata": {},
   "outputs": [],
   "source": [
    "import numpy as np\n",
    "import pandas as pd\n",
    "from sklearn.model_selection import train_test_split\n",
    "from sklearn.metrics import accuracy_score, f1_score\n",
    "from keras.models import Sequential\n",
    "from keras.layers import Dense, LSTM, Embedding \n"
   ]
  },
  {
   "cell_type": "code",
   "execution_count": 3,
   "metadata": {},
   "outputs": [
    {
     "data": {
      "text/html": [
       "<div>\n",
       "<style scoped>\n",
       "    .dataframe tbody tr th:only-of-type {\n",
       "        vertical-align: middle;\n",
       "    }\n",
       "\n",
       "    .dataframe tbody tr th {\n",
       "        vertical-align: top;\n",
       "    }\n",
       "\n",
       "    .dataframe thead th {\n",
       "        text-align: right;\n",
       "    }\n",
       "</style>\n",
       "<table border=\"1\" class=\"dataframe\">\n",
       "  <thead>\n",
       "    <tr style=\"text-align: right;\">\n",
       "      <th></th>\n",
       "      <th>review</th>\n",
       "      <th>sentiment</th>\n",
       "      <th>review_length</th>\n",
       "      <th>preprocessed_review</th>\n",
       "      <th>one_hot</th>\n",
       "    </tr>\n",
       "  </thead>\n",
       "  <tbody>\n",
       "    <tr>\n",
       "      <th>0</th>\n",
       "      <td>one reviewers mentioned watching oz episode yo...</td>\n",
       "      <td>positive</td>\n",
       "      <td>167</td>\n",
       "      <td>[3, 1791, 932, 56, 3147, 282, 347, 2992, 107, ...</td>\n",
       "      <td>[0.0, 1.0]</td>\n",
       "    </tr>\n",
       "    <tr>\n",
       "      <th>1</th>\n",
       "      <td>wonderful little production filming technique ...</td>\n",
       "      <td>positive</td>\n",
       "      <td>84</td>\n",
       "      <td>[275, 38, 249, 1218, 2836, 17505, 15916, 1485,...</td>\n",
       "      <td>[0.0, 1.0]</td>\n",
       "    </tr>\n",
       "    <tr>\n",
       "      <th>2</th>\n",
       "      <td>thought wonderful way spend time hot summer we...</td>\n",
       "      <td>positive</td>\n",
       "      <td>85</td>\n",
       "      <td>[96, 275, 26, 979, 8, 774, 1331, 2320, 1054, 8...</td>\n",
       "      <td>[0.0, 1.0]</td>\n",
       "    </tr>\n",
       "    <tr>\n",
       "      <th>3</th>\n",
       "      <td>basically theres family little boy jake thinks...</td>\n",
       "      <td>negative</td>\n",
       "      <td>66</td>\n",
       "      <td>[567, 124, 136, 38, 325, 3437, 1059, 124, 900,...</td>\n",
       "      <td>[1.0, 0.0]</td>\n",
       "    </tr>\n",
       "    <tr>\n",
       "      <th>4</th>\n",
       "      <td>petter matteis love time money visually stunni...</td>\n",
       "      <td>positive</td>\n",
       "      <td>125</td>\n",
       "      <td>[15920, -32203, 35, 8, 187, 2002, 1236, 2, 29,...</td>\n",
       "      <td>[0.0, 1.0]</td>\n",
       "    </tr>\n",
       "  </tbody>\n",
       "</table>\n",
       "</div>"
      ],
      "text/plain": [
       "                                              review sentiment  review_length  \\\n",
       "0  one reviewers mentioned watching oz episode yo...  positive            167   \n",
       "1  wonderful little production filming technique ...  positive             84   \n",
       "2  thought wonderful way spend time hot summer we...  positive             85   \n",
       "3  basically theres family little boy jake thinks...  negative             66   \n",
       "4  petter matteis love time money visually stunni...  positive            125   \n",
       "\n",
       "                                 preprocessed_review     one_hot  \n",
       "0  [3, 1791, 932, 56, 3147, 282, 347, 2992, 107, ...  [0.0, 1.0]  \n",
       "1  [275, 38, 249, 1218, 2836, 17505, 15916, 1485,...  [0.0, 1.0]  \n",
       "2  [96, 275, 26, 979, 8, 774, 1331, 2320, 1054, 8...  [0.0, 1.0]  \n",
       "3  [567, 124, 136, 38, 325, 3437, 1059, 124, 900,...  [1.0, 0.0]  \n",
       "4  [15920, -32203, 35, 8, 187, 2002, 1236, 2, 29,...  [0.0, 1.0]  "
      ]
     },
     "execution_count": 3,
     "metadata": {},
     "output_type": "execute_result"
    }
   ],
   "source": [
    "df = pd.read_hdf('processed.h5', 'df')\n",
    "df.head()"
   ]
  },
  {
   "cell_type": "code",
   "execution_count": 4,
   "metadata": {},
   "outputs": [
    {
     "name": "stderr",
     "output_type": "stream",
     "text": [
      "[nltk_data] Downloading package stopwords to\n",
      "[nltk_data]     C:\\Users\\ctemi\\AppData\\Roaming\\nltk_data...\n",
      "[nltk_data]   Package stopwords is already up-to-date!\n"
     ]
    },
    {
     "data": {
      "text/plain": [
       "1420"
      ]
     },
     "execution_count": 4,
     "metadata": {},
     "output_type": "execute_result"
    }
   ],
   "source": [
    "from helper_functions import clean_text\n",
    "\n",
    "df['cleaned_text'] = df['review'].apply(clean_text)\n",
    "max_sentence_length = df.cleaned_text.str.split().apply(len).max()\n",
    "max_sentence_length"
   ]
  },
  {
   "cell_type": "code",
   "execution_count": 5,
   "metadata": {},
   "outputs": [],
   "source": [
    "from keras.preprocessing.text import Tokenizer\n",
    "from helper_functions import preprocess_text\n",
    "tokenizer = Tokenizer()\n",
    "tokenizer.fit_on_texts(df['cleaned_text'])\n",
    "\n",
    "def preprocess_series(text):\n",
    "    return preprocess_text(text, max_sentence_length, tokenizer)[0][0]\n",
    "\n",
    "\n",
    "df['preprocessed_review'] = df['cleaned_text'].apply(preprocess_series)"
   ]
  },
  {
   "cell_type": "code",
   "execution_count": 27,
   "metadata": {},
   "outputs": [
    {
     "data": {
      "text/plain": [
       "(1420,)"
      ]
     },
     "execution_count": 27,
     "metadata": {},
     "output_type": "execute_result"
    }
   ],
   "source": [
    "df.preprocessed_review[0].shape"
   ]
  },
  {
   "cell_type": "code",
   "execution_count": 7,
   "metadata": {},
   "outputs": [],
   "source": [
    "#check for negative values in preprocessed_review\n",
    "if df['preprocessed_review'].apply(lambda x: np.any(x < 0)).sum() > 0:\n",
    "    print('Negative values found')"
   ]
  },
  {
   "cell_type": "code",
   "execution_count": 8,
   "metadata": {},
   "outputs": [
    {
     "data": {
      "text/plain": [
       "array([1, 1, 1, ..., 0, 0, 0])"
      ]
     },
     "execution_count": 8,
     "metadata": {},
     "output_type": "execute_result"
    }
   ],
   "source": [
    "from sklearn.preprocessing import LabelEncoder\n",
    "\n",
    "encoder = LabelEncoder()\n",
    "y_labels = encoder.fit_transform(df['sentiment'].values)\n",
    "y_labels"
   ]
  },
  {
   "cell_type": "code",
   "execution_count": 9,
   "metadata": {},
   "outputs": [],
   "source": [
    "#splitting data \n",
    "x = np.array([review for review in df['preprocessed_review']])\n",
    "y = y_labels\n",
    "x_train_lr, x_test_lr, y_train_lr, y_test_lr = train_test_split(x, y, test_size=0.2, random_state=42)"
   ]
  },
  {
   "cell_type": "code",
   "execution_count": 10,
   "metadata": {},
   "outputs": [
    {
     "name": "stdout",
     "output_type": "stream",
     "text": [
      "Logistic Regression Accuracy: 0.5055\n",
      "Logistic Regression F1 score: 0.5135268076733891\n"
     ]
    },
    {
     "name": "stderr",
     "output_type": "stream",
     "text": [
      "c:\\Users\\ctemi\\AppData\\Local\\Programs\\Python\\Python311\\Lib\\site-packages\\sklearn\\linear_model\\_logistic.py:458: ConvergenceWarning: lbfgs failed to converge (status=1):\n",
      "STOP: TOTAL NO. of ITERATIONS REACHED LIMIT.\n",
      "\n",
      "Increase the number of iterations (max_iter) or scale the data as shown in:\n",
      "    https://scikit-learn.org/stable/modules/preprocessing.html\n",
      "Please also refer to the documentation for alternative solver options:\n",
      "    https://scikit-learn.org/stable/modules/linear_model.html#logistic-regression\n",
      "  n_iter_i = _check_optimize_result(\n"
     ]
    }
   ],
   "source": [
    "#using a simple non deep learning model to predict the sentiment of a movie review\n",
    "from sklearn.linear_model import LogisticRegression\n",
    "\n",
    "lr_model = LogisticRegression(max_iter=1000)\n",
    "\n",
    "lr_model.fit(x_train_lr, y_train_lr)\n",
    "\n",
    "lr_predictions = lr_model.predict(x_test_lr)\n",
    "print(\"Logistic Regression Accuracy:\", accuracy_score(y_test_lr, lr_predictions))\n",
    "print('Logistic Regression F1 score:', f1_score(y_test_lr, lr_predictions))\n",
    "\n",
    "#saving the lr_model \n",
    "import pickle\n",
    "pickle.dump(lr_model, open('lr_model.pkl', 'wb'))\n"
   ]
  },
  {
   "cell_type": "code",
   "execution_count": 21,
   "metadata": {},
   "outputs": [],
   "source": [
    "y = np.array([label for label in df['one_hot']])"
   ]
  },
  {
   "cell_type": "code",
   "execution_count": 25,
   "metadata": {},
   "outputs": [
    {
     "data": {
      "text/html": [
       "<div>\n",
       "<style scoped>\n",
       "    .dataframe tbody tr th:only-of-type {\n",
       "        vertical-align: middle;\n",
       "    }\n",
       "\n",
       "    .dataframe tbody tr th {\n",
       "        vertical-align: top;\n",
       "    }\n",
       "\n",
       "    .dataframe thead th {\n",
       "        text-align: right;\n",
       "    }\n",
       "</style>\n",
       "<table border=\"1\" class=\"dataframe\">\n",
       "  <thead>\n",
       "    <tr style=\"text-align: right;\">\n",
       "      <th></th>\n",
       "      <th>review</th>\n",
       "      <th>sentiment</th>\n",
       "      <th>review_length</th>\n",
       "      <th>preprocessed_review</th>\n",
       "      <th>one_hot</th>\n",
       "      <th>cleaned_text</th>\n",
       "    </tr>\n",
       "  </thead>\n",
       "  <tbody>\n",
       "    <tr>\n",
       "      <th>0</th>\n",
       "      <td>one reviewers mentioned watching oz episode yo...</td>\n",
       "      <td>positive</td>\n",
       "      <td>167</td>\n",
       "      <td>[3, 1791, 932, 56, 3147, 282, 347, 2992, 107, ...</td>\n",
       "      <td>[0.0, 1.0]</td>\n",
       "      <td>one reviewers mentioned watching oz episode yo...</td>\n",
       "    </tr>\n",
       "    <tr>\n",
       "      <th>1</th>\n",
       "      <td>wonderful little production filming technique ...</td>\n",
       "      <td>positive</td>\n",
       "      <td>84</td>\n",
       "      <td>[275, 38, 249, 1218, 2836, 17505, 81452, 1485,...</td>\n",
       "      <td>[0.0, 1.0]</td>\n",
       "      <td>wonderful little production filming technique ...</td>\n",
       "    </tr>\n",
       "    <tr>\n",
       "      <th>2</th>\n",
       "      <td>thought wonderful way spend time hot summer we...</td>\n",
       "      <td>positive</td>\n",
       "      <td>85</td>\n",
       "      <td>[96, 275, 26, 979, 8, 774, 1331, 2320, 1054, 8...</td>\n",
       "      <td>[0.0, 1.0]</td>\n",
       "      <td>thought wonderful way spend time hot summer we...</td>\n",
       "    </tr>\n",
       "    <tr>\n",
       "      <th>3</th>\n",
       "      <td>basically theres family little boy jake thinks...</td>\n",
       "      <td>negative</td>\n",
       "      <td>66</td>\n",
       "      <td>[567, 124, 136, 38, 325, 3437, 1059, 124, 900,...</td>\n",
       "      <td>[1.0, 0.0]</td>\n",
       "      <td>basically theres family little boy jake thinks...</td>\n",
       "    </tr>\n",
       "    <tr>\n",
       "      <th>4</th>\n",
       "      <td>petter matteis love time money visually stunni...</td>\n",
       "      <td>positive</td>\n",
       "      <td>125</td>\n",
       "      <td>[81456, 33333, 35, 8, 187, 2002, 1236, 2, 29, ...</td>\n",
       "      <td>[0.0, 1.0]</td>\n",
       "      <td>petter matteis love time money visually stunni...</td>\n",
       "    </tr>\n",
       "    <tr>\n",
       "      <th>...</th>\n",
       "      <td>...</td>\n",
       "      <td>...</td>\n",
       "      <td>...</td>\n",
       "      <td>...</td>\n",
       "      <td>...</td>\n",
       "      <td>...</td>\n",
       "    </tr>\n",
       "    <tr>\n",
       "      <th>49995</th>\n",
       "      <td>thought movie right good job wasnt creative or...</td>\n",
       "      <td>positive</td>\n",
       "      <td>84</td>\n",
       "      <td>[96, 1, 107, 5, 186, 171, 1335, 109, 19, 859, ...</td>\n",
       "      <td>[0.0, 1.0]</td>\n",
       "      <td>thought movie right good job wasnt creative or...</td>\n",
       "    </tr>\n",
       "    <tr>\n",
       "      <th>49996</th>\n",
       "      <td>bad plot bad dialogue bad acting idiotic direc...</td>\n",
       "      <td>negative</td>\n",
       "      <td>56</td>\n",
       "      <td>[16, 37, 16, 294, 16, 36, 2812, 838, 509, 1413...</td>\n",
       "      <td>[1.0, 0.0]</td>\n",
       "      <td>bad plot bad dialogue bad acting idiotic direc...</td>\n",
       "    </tr>\n",
       "    <tr>\n",
       "      <th>49997</th>\n",
       "      <td>catholic taught parochial elementary schools n...</td>\n",
       "      <td>negative</td>\n",
       "      <td>115</td>\n",
       "      <td>[3356, 4097, 41755, 7984, 4346, 8580, 4097, 55...</td>\n",
       "      <td>[1.0, 0.0]</td>\n",
       "      <td>catholic taught parochial elementary schools n...</td>\n",
       "    </tr>\n",
       "    <tr>\n",
       "      <th>49998</th>\n",
       "      <td>im going disagree previous comment side maltin...</td>\n",
       "      <td>negative</td>\n",
       "      <td>114</td>\n",
       "      <td>[54, 70, 2828, 762, 793, 388, 11130, 3, 229, 9...</td>\n",
       "      <td>[1.0, 0.0]</td>\n",
       "      <td>im going disagree previous comment side maltin...</td>\n",
       "    </tr>\n",
       "    <tr>\n",
       "      <th>49999</th>\n",
       "      <td>one expects star trek movies high art fans exp...</td>\n",
       "      <td>negative</td>\n",
       "      <td>68</td>\n",
       "      <td>[3, 5513, 230, 1993, 21, 212, 416, 342, 392, 1...</td>\n",
       "      <td>[1.0, 0.0]</td>\n",
       "      <td>one expects star trek movies high art fans exp...</td>\n",
       "    </tr>\n",
       "  </tbody>\n",
       "</table>\n",
       "<p>50000 rows × 6 columns</p>\n",
       "</div>"
      ],
      "text/plain": [
       "                                                  review sentiment  \\\n",
       "0      one reviewers mentioned watching oz episode yo...  positive   \n",
       "1      wonderful little production filming technique ...  positive   \n",
       "2      thought wonderful way spend time hot summer we...  positive   \n",
       "3      basically theres family little boy jake thinks...  negative   \n",
       "4      petter matteis love time money visually stunni...  positive   \n",
       "...                                                  ...       ...   \n",
       "49995  thought movie right good job wasnt creative or...  positive   \n",
       "49996  bad plot bad dialogue bad acting idiotic direc...  negative   \n",
       "49997  catholic taught parochial elementary schools n...  negative   \n",
       "49998  im going disagree previous comment side maltin...  negative   \n",
       "49999  one expects star trek movies high art fans exp...  negative   \n",
       "\n",
       "       review_length                                preprocessed_review  \\\n",
       "0                167  [3, 1791, 932, 56, 3147, 282, 347, 2992, 107, ...   \n",
       "1                 84  [275, 38, 249, 1218, 2836, 17505, 81452, 1485,...   \n",
       "2                 85  [96, 275, 26, 979, 8, 774, 1331, 2320, 1054, 8...   \n",
       "3                 66  [567, 124, 136, 38, 325, 3437, 1059, 124, 900,...   \n",
       "4                125  [81456, 33333, 35, 8, 187, 2002, 1236, 2, 29, ...   \n",
       "...              ...                                                ...   \n",
       "49995             84  [96, 1, 107, 5, 186, 171, 1335, 109, 19, 859, ...   \n",
       "49996             56  [16, 37, 16, 294, 16, 36, 2812, 838, 509, 1413...   \n",
       "49997            115  [3356, 4097, 41755, 7984, 4346, 8580, 4097, 55...   \n",
       "49998            114  [54, 70, 2828, 762, 793, 388, 11130, 3, 229, 9...   \n",
       "49999             68  [3, 5513, 230, 1993, 21, 212, 416, 342, 392, 1...   \n",
       "\n",
       "          one_hot                                       cleaned_text  \n",
       "0      [0.0, 1.0]  one reviewers mentioned watching oz episode yo...  \n",
       "1      [0.0, 1.0]  wonderful little production filming technique ...  \n",
       "2      [0.0, 1.0]  thought wonderful way spend time hot summer we...  \n",
       "3      [1.0, 0.0]  basically theres family little boy jake thinks...  \n",
       "4      [0.0, 1.0]  petter matteis love time money visually stunni...  \n",
       "...           ...                                                ...  \n",
       "49995  [0.0, 1.0]  thought movie right good job wasnt creative or...  \n",
       "49996  [1.0, 0.0]  bad plot bad dialogue bad acting idiotic direc...  \n",
       "49997  [1.0, 0.0]  catholic taught parochial elementary schools n...  \n",
       "49998  [1.0, 0.0]  im going disagree previous comment side maltin...  \n",
       "49999  [1.0, 0.0]  one expects star trek movies high art fans exp...  \n",
       "\n",
       "[50000 rows x 6 columns]"
      ]
     },
     "execution_count": 25,
     "metadata": {},
     "output_type": "execute_result"
    }
   ],
   "source": [
    "df"
   ]
  },
  {
   "cell_type": "code",
   "execution_count": 32,
   "metadata": {},
   "outputs": [],
   "source": [
    "from keras.preprocessing.text import Tokenizer\n",
    "from keras.preprocessing.sequence import pad_sequences\n",
    "from keras.models import Sequential\n",
    "from keras.layers import Embedding, LSTM, Dense\n",
    "from keras.utils import to_categorical\n",
    "\n",
    "#Since dataset it too large we will Reduce max_sentence_length and vocab_size\n",
    "max_sentence_length = 200\n",
    "vocab_size = 5000\n",
    "\n",
    "# Tokenize the texts\n",
    "tokenizer = Tokenizer(num_words=vocab_size)\n",
    "tokenizer.fit_on_texts(df['cleaned_text'])\n",
    "sequences = tokenizer.texts_to_sequences(df['cleaned_text'])\n",
    "\n",
    "# Pad the sequences\n",
    "X = pad_sequences(sequences, maxlen=max_sentence_length)\n",
    "\n",
    "x_train, x_test, y_train, y_test = train_test_split(X, y, test_size=0.2, random_state=42)\n",
    "\n"
   ]
  },
  {
   "cell_type": "code",
   "execution_count": 33,
   "metadata": {},
   "outputs": [
    {
     "name": "stdout",
     "output_type": "stream",
     "text": [
      "Epoch 1/5\n",
      "625/625 [==============================] - 65s 100ms/step - loss: 0.3499 - accuracy: 0.8465 - val_loss: 0.2787 - val_accuracy: 0.8822\n",
      "Epoch 2/5\n",
      "625/625 [==============================] - 58s 93ms/step - loss: 0.2501 - accuracy: 0.8986 - val_loss: 0.2806 - val_accuracy: 0.8832\n",
      "Epoch 3/5\n",
      "625/625 [==============================] - 59s 94ms/step - loss: 0.2064 - accuracy: 0.9194 - val_loss: 0.3027 - val_accuracy: 0.8719\n",
      "Epoch 4/5\n",
      "625/625 [==============================] - 59s 95ms/step - loss: 0.1657 - accuracy: 0.9373 - val_loss: 0.3276 - val_accuracy: 0.8691\n",
      "Epoch 5/5\n",
      "625/625 [==============================] - 61s 97ms/step - loss: 0.1333 - accuracy: 0.9526 - val_loss: 0.3579 - val_accuracy: 0.8711\n"
     ]
    },
    {
     "data": {
      "text/plain": [
       "<keras.src.callbacks.History at 0x1708904b0d0>"
      ]
     },
     "execution_count": 33,
     "metadata": {},
     "output_type": "execute_result"
    }
   ],
   "source": [
    "# Define the model\n",
    "model = Sequential()\n",
    "model.add(Embedding(vocab_size, 100, input_length=max_sentence_length))\n",
    "model.add(LSTM(64, return_sequences=True))\n",
    "model.add(LSTM(32))\n",
    "model.add(Dense(2, activation='softmax'))\n",
    "\n",
    "# Compile the model\n",
    "model.compile(optimizer='adam', loss='categorical_crossentropy', metrics=['accuracy'])\n",
    "\n",
    "# Train the model\n",
    "model.fit(x_train, y_train, epochs=5, batch_size=64, validation_data=(x_test, y_test))"
   ]
  },
  {
   "cell_type": "code",
   "execution_count": 34,
   "metadata": {},
   "outputs": [
    {
     "name": "stdout",
     "output_type": "stream",
     "text": [
      "Test Loss: 0.3578733205795288\n",
      "Test Accuracy: 0.8711000084877014\n"
     ]
    }
   ],
   "source": [
    "loss, accuracy = model.evaluate(x_test, y_test, verbose=0)\n",
    "print(f'Test Loss: {loss}')\n",
    "print(f'Test Accuracy: {accuracy}')\n"
   ]
  },
  {
   "cell_type": "code",
   "execution_count": 35,
   "metadata": {},
   "outputs": [
    {
     "name": "stderr",
     "output_type": "stream",
     "text": [
      "c:\\Users\\ctemi\\AppData\\Local\\Programs\\Python\\Python311\\Lib\\site-packages\\keras\\src\\engine\\training.py:3000: UserWarning: You are saving your model as an HDF5 file via `model.save()`. This file format is considered legacy. We recommend using instead the native Keras format, e.g. `model.save('my_model.keras')`.\n",
      "  saving_api.save_model(\n"
     ]
    }
   ],
   "source": [
    "model.save('my_model.h5')"
   ]
  },
  {
   "cell_type": "markdown",
   "metadata": {},
   "source": [
    "# Model Performance"
   ]
  },
  {
   "cell_type": "code",
   "execution_count": 38,
   "metadata": {},
   "outputs": [],
   "source": [
    "#Load Logistic Regression Model\n",
    "import pickle\n",
    "with open('lr_model.pkl', 'rb') as file:\n",
    "    lr_model = pickle.load(file)\n",
    "\n",
    "#Load LSTM model\n",
    "from keras.models import load_model\n",
    "lstm_model = load_model('my_model.h5')"
   ]
  },
  {
   "cell_type": "code",
   "execution_count": 43,
   "metadata": {},
   "outputs": [],
   "source": [
    "import matplotlib.pyplot as plt\n",
    "import seaborn as sns\n",
    "from sklearn.metrics import confusion_matrix\n",
    "from sklearn.metrics import accuracy_score, confusion_matrix, classification_report, f1_score\n",
    "\n",
    "def plot_confusion_matrix(y_true, y_pred, title):\n",
    "    cm = confusion_matrix(y_true, y_pred)\n",
    "    plt.figure(figsize=(6, 6))\n",
    "    sns.heatmap(cm, annot=True, fmt='d', cmap='Blues', cbar=False)\n",
    "    plt.xlabel('Predicted')\n",
    "    plt.ylabel('Actual')\n",
    "    plt.title(title)\n",
    "    plt.show()\n"
   ]
  },
  {
   "cell_type": "code",
   "execution_count": 27,
   "metadata": {},
   "outputs": [
    {
     "name": "stdout",
     "output_type": "stream",
     "text": [
      "Logistic Regression Accuracy: 0.5055\n"
     ]
    },
    {
     "data": {
      "image/png": "[encoded data removed]",
      "text/plain": [
       "<Figure size 600x600 with 1 Axes>"
      ]
     },
     "metadata": {},
     "output_type": "display_data"
    },
    {
     "name": "stdout",
     "output_type": "stream",
     "text": [
      "Logistic Regression Classification Report:\n",
      "               precision    recall  f1-score   support\n",
      "\n",
      "           0       0.50      0.49      0.50      4961\n",
      "           1       0.51      0.52      0.51      5039\n",
      "\n",
      "    accuracy                           0.51     10000\n",
      "   macro avg       0.51      0.51      0.51     10000\n",
      "weighted avg       0.51      0.51      0.51     10000\n",
      "\n",
      "Logistic Regression F1 Score: 0.5135268076733891\n"
     ]
    }
   ],
   "source": [
    "\n",
    "lr_predictions = lr_model.predict(x_test_lr)\n",
    "\n",
    "print(\"Logistic Regression Accuracy:\", accuracy_score(y_test_lr, lr_predictions))\n",
    "\n",
    "# print(\"Logistic Regression Confusion Matrix:\\n\", confusion_matrix(y_test_lr, lr_predictions))\n",
    "plot_confusion_matrix(y_test_lr, lr_predictions, title='Logistic Regression Confusion Matrix')\n",
    "\n",
    "\n",
    "print(\"Logistic Regression Classification Report:\\n\", classification_report(y_test_lr, lr_predictions))\n",
    "print(\"Logistic Regression F1 Score:\", f1_score(y_test_lr, lr_predictions))\n"
   ]
  },
  {
   "cell_type": "code",
   "execution_count": 46,
   "metadata": {},
   "outputs": [
    {
     "name": "stdout",
     "output_type": "stream",
     "text": [
      "313/313 [==============================] - 8s 25ms/step\n",
      "LSTM Model Accuracy: 0.8711\n"
     ]
    },
    {
     "data": {
      "image/png": "[encoded data removed]",
      "text/plain": [
       "<Figure size 600x600 with 1 Axes>"
      ]
     },
     "metadata": {},
     "output_type": "display_data"
    },
    {
     "name": "stdout",
     "output_type": "stream",
     "text": [
      "LSTM Model Classification Report:\n",
      "              precision    recall  f1-score   support\n",
      "\n",
      "           0       0.87      0.87      0.87      4961\n",
      "           1       0.88      0.87      0.87      5039\n",
      "\n",
      "    accuracy                           0.87     10000\n",
      "   macro avg       0.87      0.87      0.87     10000\n",
      "weighted avg       0.87      0.87      0.87     10000\n",
      "\n",
      "LSTM Model F1 Score: 0.871523970896043\n"
     ]
    }
   ],
   "source": [
    "# Make predictions\n",
    "lstm_predictions = np.argmax(model.predict(x_test), axis=1)\n",
    "y_test_labels = np.argmax(y_test, axis=1)\n",
    "\n",
    "# Calculate accuracy\n",
    "lstm_accuracy = accuracy_score(y_test_labels, lstm_predictions)\n",
    "print(f'LSTM Model Accuracy: {lstm_accuracy}')\n",
    "\n",
    "# Confusion matrix\n",
    "# lstm_cm = confusion_matrix(y_test, lstm_predictions)\n",
    "# print(f'LSTM Model Confusion Matrix:\\n{lstm_cm}')\n",
    "\n",
    "plot_confusion_matrix(y_test_labels, lstm_predictions, title='LSTM Model Confusion Matrix')\n",
    "\n",
    "# Classification report\n",
    "lstm_cr = classification_report(y_test_labels, lstm_predictions)\n",
    "print(f'LSTM Model Classification Report:\\n{lstm_cr}')\n",
    "\n",
    "\n",
    "# F1 score\n",
    "lstm_f1 = f1_score(y_test_labels, lstm_predictions)\n",
    "print(f'LSTM Model F1 Score: {lstm_f1}')\n",
    "\n"
   ]
  }
 ],
 "metadata": {
  "kernelspec": {
   "display_name": "Python 3",
   "language": "python",
   "name": "python3"
  },
  "language_info": {
   "codemirror_mode": {
    "name": "ipython",
    "version": 3
   },
   "file_extension": ".py",
   "mimetype": "text/x-python",
   "name": "python",
   "nbconvert_exporter": "python",
   "pygments_lexer": "ipython3",
   "version": "3.11.3"
  },
  "orig_nbformat": 4
 },
 "nbformat": 4,
 "nbformat_minor": 2
}
